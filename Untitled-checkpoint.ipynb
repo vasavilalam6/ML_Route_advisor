{
 "cells": [
  {
   "cell_type": "code",
   "execution_count": null,
   "id": "6a86b3f8",
   "metadata": {},
   "outputs": [],
   "source": [
    "import warnings \n",
    "warnings. filterwarnings('ignore')\n",
    "import pandas as pd\n",
    "import matplotlib.pyplot as plt\n",
    "%matplotlib inline \n",
    "import seaborn as sns"
   ]
  },
  {
   "cell_type": "code",
   "execution_count": 335,
   "id": "a8700e73",
   "metadata": {},
   "outputs": [],
   "source": [
    "import numpy as np\n",
    "import math"
   ]
  },
  {
   "cell_type": "code",
   "execution_count": 336,
   "id": "e31e453f",
   "metadata": {},
   "outputs": [],
   "source": [
    "route=pd.read_excel(\"mini_csv.xlsx\")"
   ]
  },
  {
   "cell_type": "code",
   "execution_count": 337,
   "id": "11649239",
   "metadata": {},
   "outputs": [
    {
     "data": {
      "text/html": [
       "<div>\n",
       "<style scoped>\n",
       "    .dataframe tbody tr th:only-of-type {\n",
       "        vertical-align: middle;\n",
       "    }\n",
       "\n",
       "    .dataframe tbody tr th {\n",
       "        vertical-align: top;\n",
       "    }\n",
       "\n",
       "    .dataframe thead th {\n",
       "        text-align: right;\n",
       "    }\n",
       "</style>\n",
       "<table border=\"1\" class=\"dataframe\">\n",
       "  <thead>\n",
       "    <tr style=\"text-align: right;\">\n",
       "      <th></th>\n",
       "      <th>pickup</th>\n",
       "      <th>drop</th>\n",
       "      <th>via</th>\n",
       "      <th>transport(1,2)</th>\n",
       "      <th>total_distance</th>\n",
       "      <th>safety(1,2,3)</th>\n",
       "      <th>road_available(pakka,kacha)</th>\n",
       "      <th>traffic(0,1,2)</th>\n",
       "      <th>accident</th>\n",
       "      <th>people_travelled</th>\n",
       "      <th>taken</th>\n",
       "    </tr>\n",
       "  </thead>\n",
       "  <tbody>\n",
       "    <tr>\n",
       "      <th>0</th>\n",
       "      <td>Bimavaram</td>\n",
       "      <td>Biccavolu</td>\n",
       "      <td>ramachandrapuram</td>\n",
       "      <td>2</td>\n",
       "      <td>108.0</td>\n",
       "      <td>3</td>\n",
       "      <td>2</td>\n",
       "      <td>0</td>\n",
       "      <td>3.099166</td>\n",
       "      <td>454</td>\n",
       "      <td>0</td>\n",
       "    </tr>\n",
       "    <tr>\n",
       "      <th>1</th>\n",
       "      <td>Bimavaram</td>\n",
       "      <td>Biccavolu</td>\n",
       "      <td>rajahmundry</td>\n",
       "      <td>2</td>\n",
       "      <td>129.0</td>\n",
       "      <td>2</td>\n",
       "      <td>2</td>\n",
       "      <td>1</td>\n",
       "      <td>4.613683</td>\n",
       "      <td>1317</td>\n",
       "      <td>0</td>\n",
       "    </tr>\n",
       "    <tr>\n",
       "      <th>2</th>\n",
       "      <td>Bimavaram</td>\n",
       "      <td>Biccavolu</td>\n",
       "      <td>tadepalli Gudem</td>\n",
       "      <td>2</td>\n",
       "      <td>105.0</td>\n",
       "      <td>1</td>\n",
       "      <td>1</td>\n",
       "      <td>1</td>\n",
       "      <td>4.414495</td>\n",
       "      <td>1122</td>\n",
       "      <td>1</td>\n",
       "    </tr>\n",
       "    <tr>\n",
       "      <th>3</th>\n",
       "      <td>Bimavaram</td>\n",
       "      <td>Biccavolu</td>\n",
       "      <td>tanuku</td>\n",
       "      <td>2</td>\n",
       "      <td>104.0</td>\n",
       "      <td>1</td>\n",
       "      <td>2</td>\n",
       "      <td>0</td>\n",
       "      <td>2.379357</td>\n",
       "      <td>718</td>\n",
       "      <td>0</td>\n",
       "    </tr>\n",
       "    <tr>\n",
       "      <th>4</th>\n",
       "      <td>Bimavaram</td>\n",
       "      <td>Eluru</td>\n",
       "      <td>kaikaluru</td>\n",
       "      <td>2</td>\n",
       "      <td>80.0</td>\n",
       "      <td>2</td>\n",
       "      <td>1</td>\n",
       "      <td>0</td>\n",
       "      <td>3.795990</td>\n",
       "      <td>620</td>\n",
       "      <td>0</td>\n",
       "    </tr>\n",
       "  </tbody>\n",
       "</table>\n",
       "</div>"
      ],
      "text/plain": [
       "      pickup       drop               via  transport(1,2)  total_distance  \\\n",
       "0  Bimavaram  Biccavolu  ramachandrapuram               2           108.0   \n",
       "1  Bimavaram  Biccavolu       rajahmundry               2           129.0   \n",
       "2  Bimavaram  Biccavolu   tadepalli Gudem               2           105.0   \n",
       "3  Bimavaram  Biccavolu            tanuku               2           104.0   \n",
       "4  Bimavaram      Eluru         kaikaluru               2            80.0   \n",
       "\n",
       "   safety(1,2,3)  road_available(pakka,kacha)  traffic(0,1,2)  accident  \\\n",
       "0              3                            2               0  3.099166   \n",
       "1              2                            2               1  4.613683   \n",
       "2              1                            1               1  4.414495   \n",
       "3              1                            2               0  2.379357   \n",
       "4              2                            1               0  3.795990   \n",
       "\n",
       "   people_travelled  taken  \n",
       "0               454      0  \n",
       "1              1317      0  \n",
       "2              1122      1  \n",
       "3               718      0  \n",
       "4               620      0  "
      ]
     },
     "execution_count": 337,
     "metadata": {},
     "output_type": "execute_result"
    }
   ],
   "source": [
    "route.head()"
   ]
  },
  {
   "cell_type": "code",
   "execution_count": 338,
   "id": "57793802",
   "metadata": {},
   "outputs": [
    {
     "name": "stdout",
     "output_type": "stream",
     "text": [
      "shape of dataset (69, 11)\n"
     ]
    }
   ],
   "source": [
    "print(\"shape of dataset\",route.shape)"
   ]
  },
  {
   "cell_type": "code",
   "execution_count": 339,
   "id": "57c8c3b0",
   "metadata": {},
   "outputs": [
    {
     "name": "stdout",
     "output_type": "stream",
     "text": [
      "checking data-type pickup                          object\n",
      "drop                            object\n",
      "via                             object\n",
      "transport(1,2)                   int64\n",
      "total_distance                 float64\n",
      "safety(1,2,3)                    int64\n",
      "road_available(pakka,kacha)      int64\n",
      "traffic(0,1,2)                   int64\n",
      "accident                       float64\n",
      "people_travelled                 int64\n",
      "taken                            int64\n",
      "dtype: object\n"
     ]
    }
   ],
   "source": [
    "print(\"checking data-type\",route.dtypes)"
   ]
  },
  {
   "cell_type": "code",
   "execution_count": 340,
   "id": "8c09ad54",
   "metadata": {},
   "outputs": [
    {
     "name": "stdout",
     "output_type": "stream",
     "text": [
      "<class 'pandas.core.frame.DataFrame'>\n",
      "RangeIndex: 69 entries, 0 to 68\n",
      "Data columns (total 11 columns):\n",
      " #   Column                       Non-Null Count  Dtype  \n",
      "---  ------                       --------------  -----  \n",
      " 0   pickup                       69 non-null     object \n",
      " 1   drop                         69 non-null     object \n",
      " 2   via                          69 non-null     object \n",
      " 3   transport(1,2)               69 non-null     int64  \n",
      " 4   total_distance               69 non-null     float64\n",
      " 5   safety(1,2,3)                69 non-null     int64  \n",
      " 6   road_available(pakka,kacha)  69 non-null     int64  \n",
      " 7   traffic(0,1,2)               69 non-null     int64  \n",
      " 8   accident                     69 non-null     float64\n",
      " 9   people_travelled             69 non-null     int64  \n",
      " 10  taken                        69 non-null     int64  \n",
      "dtypes: float64(2), int64(6), object(3)\n",
      "memory usage: 6.1+ KB\n"
     ]
    }
   ],
   "source": [
    "route.info(5)"
   ]
  },
  {
   "cell_type": "code",
   "execution_count": 341,
   "id": "51d6928e",
   "metadata": {},
   "outputs": [
    {
     "data": {
      "text/plain": [
       "<AxesSubplot:xlabel='taken', ylabel='count'>"
      ]
     },
     "execution_count": 341,
     "metadata": {},
     "output_type": "execute_result"
    },
    {
     "data": {
      "image/png": "[encoded data removed]",
      "text/plain": [
       "<Figure size 640x480 with 1 Axes>"
      ]
     },
     "metadata": {},
     "output_type": "display_data"
    }
   ],
   "source": [
    "sns.countplot(x=\"taken\",hue=\"transport(1,2)\",data=route)"
   ]
  },
  {
   "cell_type": "code",
   "execution_count": 342,
   "id": "6cea64ca",
   "metadata": {},
   "outputs": [
    {
     "data": {
      "text/plain": [
       "<AxesSubplot:xlabel='taken', ylabel='count'>"
      ]
     },
     "execution_count": 342,
     "metadata": {},
     "output_type": "execute_result"
    },
    {
     "data": {
      "image/png": "[encoded data removed]",
      "text/plain": [
       "<Figure size 640x480 with 1 Axes>"
      ]
     },
     "metadata": {},
     "output_type": "display_data"
    }
   ],
   "source": [
    "sns.countplot(x=\"taken\",hue=\"safety(1,2,3)\",data=route)"
   ]
  },
  {
   "cell_type": "code",
   "execution_count": 343,
   "id": "1937d70e",
   "metadata": {},
   "outputs": [
    {
     "data": {
      "text/plain": [
       "<AxesSubplot:xlabel='taken', ylabel='count'>"
      ]
     },
     "execution_count": 343,
     "metadata": {},
     "output_type": "execute_result"
    },
    {
     "data": {
      "image/png": "[encoded data removed]",
      "text/plain": [
       "<Figure size 640x480 with 1 Axes>"
      ]
     },
     "metadata": {},
     "output_type": "display_data"
    }
   ],
   "source": [
    "sns.countplot(x=\"taken\",hue=\"traffic(0,1,2)\",data=route)"
   ]
  },
  {
   "cell_type": "code",
   "execution_count": 344,
   "id": "be18def9",
   "metadata": {},
   "outputs": [
    {
     "data": {
      "text/plain": [
       "<AxesSubplot:ylabel='Frequency'>"
      ]
     },
     "execution_count": 344,
     "metadata": {},
     "output_type": "execute_result"
    },
    {
     "data": {
      "image/png": "[encoded data removed]",
      "text/plain": [
       "<Figure size 640x480 with 1 Axes>"
      ]
     },
     "metadata": {},
     "output_type": "display_data"
    }
   ],
   "source": [
    "route[\"total_distance\"].plot.hist()"
   ]
  },
  {
   "cell_type": "code",
   "execution_count": 345,
   "id": "289f112c",
   "metadata": {},
   "outputs": [
    {
     "data": {
      "text/plain": [
       "<AxesSubplot:ylabel='Frequency'>"
      ]
     },
     "execution_count": 345,
     "metadata": {},
     "output_type": "execute_result"
    },
    {
     "data": {
      "image/png": "[encoded data removed]",
      "text/plain": [
       "<Figure size 640x480 with 1 Axes>"
      ]
     },
     "metadata": {},
     "output_type": "display_data"
    }
   ],
   "source": [
    "route[\"safety(1,2,3)\"].plot.hist()"
   ]
  },
  {
   "cell_type": "code",
   "execution_count": 346,
   "id": "944a6ef8",
   "metadata": {},
   "outputs": [
    {
     "data": {
      "text/plain": [
       "<AxesSubplot:xlabel='traffic(0,1,2)', ylabel='safety(1,2,3)'>"
      ]
     },
     "execution_count": 346,
     "metadata": {},
     "output_type": "execute_result"
    },
    {
     "data": {
      "image/png": "[encoded data removed]",
      "text/plain": [
       "<Figure size 640x480 with 1 Axes>"
      ]
     },
     "metadata": {},
     "output_type": "display_data"
    }
   ],
   "source": [
    "sns.boxplot(x=\"traffic(0,1,2)\",y=\"safety(1,2,3)\",data=route)"
   ]
  },
  {
   "cell_type": "code",
   "execution_count": 347,
   "id": "efd4b555",
   "metadata": {},
   "outputs": [
    {
     "data": {
      "text/html": [
       "<div>\n",
       "<style scoped>\n",
       "    .dataframe tbody tr th:only-of-type {\n",
       "        vertical-align: middle;\n",
       "    }\n",
       "\n",
       "    .dataframe tbody tr th {\n",
       "        vertical-align: top;\n",
       "    }\n",
       "\n",
       "    .dataframe thead th {\n",
       "        text-align: right;\n",
       "    }\n",
       "</style>\n",
       "<table border=\"1\" class=\"dataframe\">\n",
       "  <thead>\n",
       "    <tr style=\"text-align: right;\">\n",
       "      <th></th>\n",
       "      <th>pickup</th>\n",
       "      <th>drop</th>\n",
       "      <th>via</th>\n",
       "      <th>transport(1,2)</th>\n",
       "      <th>total_distance</th>\n",
       "      <th>safety(1,2,3)</th>\n",
       "      <th>road_available(pakka,kacha)</th>\n",
       "      <th>traffic(0,1,2)</th>\n",
       "      <th>accident</th>\n",
       "      <th>people_travelled</th>\n",
       "      <th>taken</th>\n",
       "    </tr>\n",
       "  </thead>\n",
       "  <tbody>\n",
       "    <tr>\n",
       "      <th>0</th>\n",
       "      <td>False</td>\n",
       "      <td>False</td>\n",
       "      <td>False</td>\n",
       "      <td>False</td>\n",
       "      <td>False</td>\n",
       "      <td>False</td>\n",
       "      <td>False</td>\n",
       "      <td>False</td>\n",
       "      <td>False</td>\n",
       "      <td>False</td>\n",
       "      <td>False</td>\n",
       "    </tr>\n",
       "    <tr>\n",
       "      <th>1</th>\n",
       "      <td>False</td>\n",
       "      <td>False</td>\n",
       "      <td>False</td>\n",
       "      <td>False</td>\n",
       "      <td>False</td>\n",
       "      <td>False</td>\n",
       "      <td>False</td>\n",
       "      <td>False</td>\n",
       "      <td>False</td>\n",
       "      <td>False</td>\n",
       "      <td>False</td>\n",
       "    </tr>\n",
       "    <tr>\n",
       "      <th>2</th>\n",
       "      <td>False</td>\n",
       "      <td>False</td>\n",
       "      <td>False</td>\n",
       "      <td>False</td>\n",
       "      <td>False</td>\n",
       "      <td>False</td>\n",
       "      <td>False</td>\n",
       "      <td>False</td>\n",
       "      <td>False</td>\n",
       "      <td>False</td>\n",
       "      <td>False</td>\n",
       "    </tr>\n",
       "    <tr>\n",
       "      <th>3</th>\n",
       "      <td>False</td>\n",
       "      <td>False</td>\n",
       "      <td>False</td>\n",
       "      <td>False</td>\n",
       "      <td>False</td>\n",
       "      <td>False</td>\n",
       "      <td>False</td>\n",
       "      <td>False</td>\n",
       "      <td>False</td>\n",
       "      <td>False</td>\n",
       "      <td>False</td>\n",
       "    </tr>\n",
       "    <tr>\n",
       "      <th>4</th>\n",
       "      <td>False</td>\n",
       "      <td>False</td>\n",
       "      <td>False</td>\n",
       "      <td>False</td>\n",
       "      <td>False</td>\n",
       "      <td>False</td>\n",
       "      <td>False</td>\n",
       "      <td>False</td>\n",
       "      <td>False</td>\n",
       "      <td>False</td>\n",
       "      <td>False</td>\n",
       "    </tr>\n",
       "    <tr>\n",
       "      <th>...</th>\n",
       "      <td>...</td>\n",
       "      <td>...</td>\n",
       "      <td>...</td>\n",
       "      <td>...</td>\n",
       "      <td>...</td>\n",
       "      <td>...</td>\n",
       "      <td>...</td>\n",
       "      <td>...</td>\n",
       "      <td>...</td>\n",
       "      <td>...</td>\n",
       "      <td>...</td>\n",
       "    </tr>\n",
       "    <tr>\n",
       "      <th>64</th>\n",
       "      <td>False</td>\n",
       "      <td>False</td>\n",
       "      <td>False</td>\n",
       "      <td>False</td>\n",
       "      <td>False</td>\n",
       "      <td>False</td>\n",
       "      <td>False</td>\n",
       "      <td>False</td>\n",
       "      <td>False</td>\n",
       "      <td>False</td>\n",
       "      <td>False</td>\n",
       "    </tr>\n",
       "    <tr>\n",
       "      <th>65</th>\n",
       "      <td>False</td>\n",
       "      <td>False</td>\n",
       "      <td>False</td>\n",
       "      <td>False</td>\n",
       "      <td>False</td>\n",
       "      <td>False</td>\n",
       "      <td>False</td>\n",
       "      <td>False</td>\n",
       "      <td>False</td>\n",
       "      <td>False</td>\n",
       "      <td>False</td>\n",
       "    </tr>\n",
       "    <tr>\n",
       "      <th>66</th>\n",
       "      <td>False</td>\n",
       "      <td>False</td>\n",
       "      <td>False</td>\n",
       "      <td>False</td>\n",
       "      <td>False</td>\n",
       "      <td>False</td>\n",
       "      <td>False</td>\n",
       "      <td>False</td>\n",
       "      <td>False</td>\n",
       "      <td>False</td>\n",
       "      <td>False</td>\n",
       "    </tr>\n",
       "    <tr>\n",
       "      <th>67</th>\n",
       "      <td>False</td>\n",
       "      <td>False</td>\n",
       "      <td>False</td>\n",
       "      <td>False</td>\n",
       "      <td>False</td>\n",
       "      <td>False</td>\n",
       "      <td>False</td>\n",
       "      <td>False</td>\n",
       "      <td>False</td>\n",
       "      <td>False</td>\n",
       "      <td>False</td>\n",
       "    </tr>\n",
       "    <tr>\n",
       "      <th>68</th>\n",
       "      <td>False</td>\n",
       "      <td>False</td>\n",
       "      <td>False</td>\n",
       "      <td>False</td>\n",
       "      <td>False</td>\n",
       "      <td>False</td>\n",
       "      <td>False</td>\n",
       "      <td>False</td>\n",
       "      <td>False</td>\n",
       "      <td>False</td>\n",
       "      <td>False</td>\n",
       "    </tr>\n",
       "  </tbody>\n",
       "</table>\n",
       "<p>69 rows × 11 columns</p>\n",
       "</div>"
      ],
      "text/plain": [
       "    pickup   drop    via  transport(1,2)  total_distance  safety(1,2,3)  \\\n",
       "0    False  False  False           False           False          False   \n",
       "1    False  False  False           False           False          False   \n",
       "2    False  False  False           False           False          False   \n",
       "3    False  False  False           False           False          False   \n",
       "4    False  False  False           False           False          False   \n",
       "..     ...    ...    ...             ...             ...            ...   \n",
       "64   False  False  False           False           False          False   \n",
       "65   False  False  False           False           False          False   \n",
       "66   False  False  False           False           False          False   \n",
       "67   False  False  False           False           False          False   \n",
       "68   False  False  False           False           False          False   \n",
       "\n",
       "    road_available(pakka,kacha)  traffic(0,1,2)  accident  people_travelled  \\\n",
       "0                         False           False     False             False   \n",
       "1                         False           False     False             False   \n",
       "2                         False           False     False             False   \n",
       "3                         False           False     False             False   \n",
       "4                         False           False     False             False   \n",
       "..                          ...             ...       ...               ...   \n",
       "64                        False           False     False             False   \n",
       "65                        False           False     False             False   \n",
       "66                        False           False     False             False   \n",
       "67                        False           False     False             False   \n",
       "68                        False           False     False             False   \n",
       "\n",
       "    taken  \n",
       "0   False  \n",
       "1   False  \n",
       "2   False  \n",
       "3   False  \n",
       "4   False  \n",
       "..    ...  \n",
       "64  False  \n",
       "65  False  \n",
       "66  False  \n",
       "67  False  \n",
       "68  False  \n",
       "\n",
       "[69 rows x 11 columns]"
      ]
     },
     "execution_count": 347,
     "metadata": {},
     "output_type": "execute_result"
    }
   ],
   "source": [
    "route.isnull()"
   ]
  },
  {
   "cell_type": "code",
   "execution_count": 348,
   "id": "962b2405",
   "metadata": {},
   "outputs": [
    {
     "data": {
      "text/plain": [
       "pickup                         0\n",
       "drop                           0\n",
       "via                            0\n",
       "transport(1,2)                 0\n",
       "total_distance                 0\n",
       "safety(1,2,3)                  0\n",
       "road_available(pakka,kacha)    0\n",
       "traffic(0,1,2)                 0\n",
       "accident                       0\n",
       "people_travelled               0\n",
       "taken                          0\n",
       "dtype: int64"
      ]
     },
     "execution_count": 348,
     "metadata": {},
     "output_type": "execute_result"
    }
   ],
   "source": [
    "route.isnull().sum()"
   ]
  },
  {
   "cell_type": "code",
   "execution_count": 350,
   "id": "c2fc4c10",
   "metadata": {},
   "outputs": [],
   "source": [
    "# route.drop('accident',inplace=True,axis=1)"
   ]
  },
  {
   "cell_type": "code",
   "execution_count": 351,
   "id": "741bad5d",
   "metadata": {},
   "outputs": [
    {
     "data": {
      "text/html": [
       "<div>\n",
       "<style scoped>\n",
       "    .dataframe tbody tr th:only-of-type {\n",
       "        vertical-align: middle;\n",
       "    }\n",
       "\n",
       "    .dataframe tbody tr th {\n",
       "        vertical-align: top;\n",
       "    }\n",
       "\n",
       "    .dataframe thead th {\n",
       "        text-align: right;\n",
       "    }\n",
       "</style>\n",
       "<table border=\"1\" class=\"dataframe\">\n",
       "  <thead>\n",
       "    <tr style=\"text-align: right;\">\n",
       "      <th></th>\n",
       "      <th>pickup</th>\n",
       "      <th>drop</th>\n",
       "      <th>via</th>\n",
       "      <th>transport(1,2)</th>\n",
       "      <th>total_distance</th>\n",
       "      <th>safety(1,2,3)</th>\n",
       "      <th>road_available(pakka,kacha)</th>\n",
       "      <th>traffic(0,1,2)</th>\n",
       "      <th>accident</th>\n",
       "      <th>people_travelled</th>\n",
       "      <th>taken</th>\n",
       "    </tr>\n",
       "  </thead>\n",
       "  <tbody>\n",
       "    <tr>\n",
       "      <th>0</th>\n",
       "      <td>Bimavaram</td>\n",
       "      <td>Biccavolu</td>\n",
       "      <td>ramachandrapuram</td>\n",
       "      <td>2</td>\n",
       "      <td>108.0</td>\n",
       "      <td>3</td>\n",
       "      <td>2</td>\n",
       "      <td>0</td>\n",
       "      <td>3.099166</td>\n",
       "      <td>454</td>\n",
       "      <td>0</td>\n",
       "    </tr>\n",
       "    <tr>\n",
       "      <th>1</th>\n",
       "      <td>Bimavaram</td>\n",
       "      <td>Biccavolu</td>\n",
       "      <td>rajahmundry</td>\n",
       "      <td>2</td>\n",
       "      <td>129.0</td>\n",
       "      <td>2</td>\n",
       "      <td>2</td>\n",
       "      <td>1</td>\n",
       "      <td>4.613683</td>\n",
       "      <td>1317</td>\n",
       "      <td>0</td>\n",
       "    </tr>\n",
       "    <tr>\n",
       "      <th>2</th>\n",
       "      <td>Bimavaram</td>\n",
       "      <td>Biccavolu</td>\n",
       "      <td>tadepalli Gudem</td>\n",
       "      <td>2</td>\n",
       "      <td>105.0</td>\n",
       "      <td>1</td>\n",
       "      <td>1</td>\n",
       "      <td>1</td>\n",
       "      <td>4.414495</td>\n",
       "      <td>1122</td>\n",
       "      <td>1</td>\n",
       "    </tr>\n",
       "    <tr>\n",
       "      <th>3</th>\n",
       "      <td>Bimavaram</td>\n",
       "      <td>Biccavolu</td>\n",
       "      <td>tanuku</td>\n",
       "      <td>2</td>\n",
       "      <td>104.0</td>\n",
       "      <td>1</td>\n",
       "      <td>2</td>\n",
       "      <td>0</td>\n",
       "      <td>2.379357</td>\n",
       "      <td>718</td>\n",
       "      <td>0</td>\n",
       "    </tr>\n",
       "    <tr>\n",
       "      <th>4</th>\n",
       "      <td>Bimavaram</td>\n",
       "      <td>Eluru</td>\n",
       "      <td>kaikaluru</td>\n",
       "      <td>2</td>\n",
       "      <td>80.0</td>\n",
       "      <td>2</td>\n",
       "      <td>1</td>\n",
       "      <td>0</td>\n",
       "      <td>3.795990</td>\n",
       "      <td>620</td>\n",
       "      <td>0</td>\n",
       "    </tr>\n",
       "  </tbody>\n",
       "</table>\n",
       "</div>"
      ],
      "text/plain": [
       "      pickup       drop               via  transport(1,2)  total_distance  \\\n",
       "0  Bimavaram  Biccavolu  ramachandrapuram               2           108.0   \n",
       "1  Bimavaram  Biccavolu       rajahmundry               2           129.0   \n",
       "2  Bimavaram  Biccavolu   tadepalli Gudem               2           105.0   \n",
       "3  Bimavaram  Biccavolu            tanuku               2           104.0   \n",
       "4  Bimavaram      Eluru         kaikaluru               2            80.0   \n",
       "\n",
       "   safety(1,2,3)  road_available(pakka,kacha)  traffic(0,1,2)  accident  \\\n",
       "0              3                            2               0  3.099166   \n",
       "1              2                            2               1  4.613683   \n",
       "2              1                            1               1  4.414495   \n",
       "3              1                            2               0  2.379357   \n",
       "4              2                            1               0  3.795990   \n",
       "\n",
       "   people_travelled  taken  \n",
       "0               454      0  \n",
       "1              1317      0  \n",
       "2              1122      1  \n",
       "3               718      0  \n",
       "4               620      0  "
      ]
     },
     "execution_count": 351,
     "metadata": {},
     "output_type": "execute_result"
    }
   ],
   "source": [
    "route.head()"
   ]
  },
  {
   "cell_type": "code",
   "execution_count": 352,
   "id": "19897818",
   "metadata": {},
   "outputs": [
    {
     "data": {
      "text/plain": [
       "pickup                         0\n",
       "drop                           0\n",
       "via                            0\n",
       "transport(1,2)                 0\n",
       "total_distance                 0\n",
       "safety(1,2,3)                  0\n",
       "road_available(pakka,kacha)    0\n",
       "traffic(0,1,2)                 0\n",
       "accident                       0\n",
       "people_travelled               0\n",
       "taken                          0\n",
       "dtype: int64"
      ]
     },
     "execution_count": 352,
     "metadata": {},
     "output_type": "execute_result"
    }
   ],
   "source": [
    "route.isnull().sum()"
   ]
  },
  {
   "cell_type": "code",
   "execution_count": 353,
   "id": "db7fea7c",
   "metadata": {},
   "outputs": [
    {
     "data": {
      "text/html": [
       "<div>\n",
       "<style scoped>\n",
       "    .dataframe tbody tr th:only-of-type {\n",
       "        vertical-align: middle;\n",
       "    }\n",
       "\n",
       "    .dataframe tbody tr th {\n",
       "        vertical-align: top;\n",
       "    }\n",
       "\n",
       "    .dataframe thead th {\n",
       "        text-align: right;\n",
       "    }\n",
       "</style>\n",
       "<table border=\"1\" class=\"dataframe\">\n",
       "  <thead>\n",
       "    <tr style=\"text-align: right;\">\n",
       "      <th></th>\n",
       "      <th>pickup</th>\n",
       "      <th>drop</th>\n",
       "      <th>via</th>\n",
       "      <th>transport(1,2)</th>\n",
       "      <th>total_distance</th>\n",
       "      <th>safety(1,2,3)</th>\n",
       "      <th>road_available(pakka,kacha)</th>\n",
       "      <th>traffic(0,1,2)</th>\n",
       "      <th>accident</th>\n",
       "      <th>people_travelled</th>\n",
       "      <th>taken</th>\n",
       "    </tr>\n",
       "  </thead>\n",
       "  <tbody>\n",
       "    <tr>\n",
       "      <th>0</th>\n",
       "      <td>1</td>\n",
       "      <td>1</td>\n",
       "      <td>41</td>\n",
       "      <td>2</td>\n",
       "      <td>108.0</td>\n",
       "      <td>3</td>\n",
       "      <td>2</td>\n",
       "      <td>0</td>\n",
       "      <td>3.099166</td>\n",
       "      <td>454</td>\n",
       "      <td>0</td>\n",
       "    </tr>\n",
       "    <tr>\n",
       "      <th>1</th>\n",
       "      <td>1</td>\n",
       "      <td>1</td>\n",
       "      <td>40</td>\n",
       "      <td>2</td>\n",
       "      <td>129.0</td>\n",
       "      <td>2</td>\n",
       "      <td>2</td>\n",
       "      <td>1</td>\n",
       "      <td>4.613683</td>\n",
       "      <td>1317</td>\n",
       "      <td>0</td>\n",
       "    </tr>\n",
       "    <tr>\n",
       "      <th>2</th>\n",
       "      <td>1</td>\n",
       "      <td>1</td>\n",
       "      <td>48</td>\n",
       "      <td>2</td>\n",
       "      <td>105.0</td>\n",
       "      <td>1</td>\n",
       "      <td>1</td>\n",
       "      <td>1</td>\n",
       "      <td>4.414495</td>\n",
       "      <td>1122</td>\n",
       "      <td>1</td>\n",
       "    </tr>\n",
       "    <tr>\n",
       "      <th>3</th>\n",
       "      <td>1</td>\n",
       "      <td>1</td>\n",
       "      <td>49</td>\n",
       "      <td>2</td>\n",
       "      <td>104.0</td>\n",
       "      <td>1</td>\n",
       "      <td>2</td>\n",
       "      <td>0</td>\n",
       "      <td>2.379357</td>\n",
       "      <td>718</td>\n",
       "      <td>0</td>\n",
       "    </tr>\n",
       "    <tr>\n",
       "      <th>4</th>\n",
       "      <td>1</td>\n",
       "      <td>2</td>\n",
       "      <td>29</td>\n",
       "      <td>2</td>\n",
       "      <td>80.0</td>\n",
       "      <td>2</td>\n",
       "      <td>1</td>\n",
       "      <td>0</td>\n",
       "      <td>3.795990</td>\n",
       "      <td>620</td>\n",
       "      <td>0</td>\n",
       "    </tr>\n",
       "  </tbody>\n",
       "</table>\n",
       "</div>"
      ],
      "text/plain": [
       "   pickup  drop  via  transport(1,2)  total_distance  safety(1,2,3)  \\\n",
       "0       1     1   41               2           108.0              3   \n",
       "1       1     1   40               2           129.0              2   \n",
       "2       1     1   48               2           105.0              1   \n",
       "3       1     1   49               2           104.0              1   \n",
       "4       1     2   29               2            80.0              2   \n",
       "\n",
       "   road_available(pakka,kacha)  traffic(0,1,2)  accident  people_travelled  \\\n",
       "0                            2               0  3.099166               454   \n",
       "1                            2               1  4.613683              1317   \n",
       "2                            1               1  4.414495              1122   \n",
       "3                            2               0  2.379357               718   \n",
       "4                            1               0  3.795990               620   \n",
       "\n",
       "   taken  \n",
       "0      0  \n",
       "1      0  \n",
       "2      1  \n",
       "3      0  \n",
       "4      0  "
      ]
     },
     "execution_count": 353,
     "metadata": {},
     "output_type": "execute_result"
    }
   ],
   "source": [
    "from sklearn.preprocessing import LabelEncoder\n",
    "le_pickup = LabelEncoder()\n",
    "le_drop = LabelEncoder()\n",
    "le_via = LabelEncoder()\n",
    "route['pickup'] = le_pickup.fit_transform(route['pickup'])\n",
    "route['drop'] = le_drop.fit_transform(route['drop'])\n",
    "route['via'] = le_via.fit_transform(route['via'])\n",
    "route.head(5)"
   ]
  },
  {
   "cell_type": "code",
   "execution_count": 354,
   "id": "b6aeb3c2",
   "metadata": {},
   "outputs": [],
   "source": [
    "# route.drop(['total_distance'],axis=1,inplace=True)\n",
    "# route.drop('drop',axis=1,inplace=True)\n",
    "# route.drop('pickup',axis=1,inplace=True)\n",
    "# route.drop('via',axis=1,inplace=True)"
   ]
  },
  {
   "cell_type": "code",
   "execution_count": 355,
   "id": "b7393b91",
   "metadata": {},
   "outputs": [],
   "source": [
    "safety=pd.get_dummies(route['safety(1,2,3)'])"
   ]
  },
  {
   "cell_type": "code",
   "execution_count": 356,
   "id": "8c00d5ab",
   "metadata": {},
   "outputs": [
    {
     "data": {
      "text/html": [
       "<div>\n",
       "<style scoped>\n",
       "    .dataframe tbody tr th:only-of-type {\n",
       "        vertical-align: middle;\n",
       "    }\n",
       "\n",
       "    .dataframe tbody tr th {\n",
       "        vertical-align: top;\n",
       "    }\n",
       "\n",
       "    .dataframe thead th {\n",
       "        text-align: right;\n",
       "    }\n",
       "</style>\n",
       "<table border=\"1\" class=\"dataframe\">\n",
       "  <thead>\n",
       "    <tr style=\"text-align: right;\">\n",
       "      <th></th>\n",
       "      <th>1</th>\n",
       "      <th>2</th>\n",
       "      <th>3</th>\n",
       "    </tr>\n",
       "  </thead>\n",
       "  <tbody>\n",
       "    <tr>\n",
       "      <th>0</th>\n",
       "      <td>0</td>\n",
       "      <td>0</td>\n",
       "      <td>1</td>\n",
       "    </tr>\n",
       "    <tr>\n",
       "      <th>1</th>\n",
       "      <td>0</td>\n",
       "      <td>1</td>\n",
       "      <td>0</td>\n",
       "    </tr>\n",
       "    <tr>\n",
       "      <th>2</th>\n",
       "      <td>1</td>\n",
       "      <td>0</td>\n",
       "      <td>0</td>\n",
       "    </tr>\n",
       "    <tr>\n",
       "      <th>3</th>\n",
       "      <td>1</td>\n",
       "      <td>0</td>\n",
       "      <td>0</td>\n",
       "    </tr>\n",
       "    <tr>\n",
       "      <th>4</th>\n",
       "      <td>0</td>\n",
       "      <td>1</td>\n",
       "      <td>0</td>\n",
       "    </tr>\n",
       "  </tbody>\n",
       "</table>\n",
       "</div>"
      ],
      "text/plain": [
       "   1  2  3\n",
       "0  0  0  1\n",
       "1  0  1  0\n",
       "2  1  0  0\n",
       "3  1  0  0\n",
       "4  0  1  0"
      ]
     },
     "execution_count": 356,
     "metadata": {},
     "output_type": "execute_result"
    }
   ],
   "source": [
    "safety.head(5)"
   ]
  },
  {
   "cell_type": "code",
   "execution_count": 357,
   "id": "171814bc",
   "metadata": {},
   "outputs": [
    {
     "data": {
      "text/html": [
       "<div>\n",
       "<style scoped>\n",
       "    .dataframe tbody tr th:only-of-type {\n",
       "        vertical-align: middle;\n",
       "    }\n",
       "\n",
       "    .dataframe tbody tr th {\n",
       "        vertical-align: top;\n",
       "    }\n",
       "\n",
       "    .dataframe thead th {\n",
       "        text-align: right;\n",
       "    }\n",
       "</style>\n",
       "<table border=\"1\" class=\"dataframe\">\n",
       "  <thead>\n",
       "    <tr style=\"text-align: right;\">\n",
       "      <th></th>\n",
       "      <th>2</th>\n",
       "      <th>3</th>\n",
       "    </tr>\n",
       "  </thead>\n",
       "  <tbody>\n",
       "    <tr>\n",
       "      <th>0</th>\n",
       "      <td>0</td>\n",
       "      <td>1</td>\n",
       "    </tr>\n",
       "    <tr>\n",
       "      <th>1</th>\n",
       "      <td>1</td>\n",
       "      <td>0</td>\n",
       "    </tr>\n",
       "    <tr>\n",
       "      <th>2</th>\n",
       "      <td>0</td>\n",
       "      <td>0</td>\n",
       "    </tr>\n",
       "    <tr>\n",
       "      <th>3</th>\n",
       "      <td>0</td>\n",
       "      <td>0</td>\n",
       "    </tr>\n",
       "    <tr>\n",
       "      <th>4</th>\n",
       "      <td>1</td>\n",
       "      <td>0</td>\n",
       "    </tr>\n",
       "  </tbody>\n",
       "</table>\n",
       "</div>"
      ],
      "text/plain": [
       "   2  3\n",
       "0  0  1\n",
       "1  1  0\n",
       "2  0  0\n",
       "3  0  0\n",
       "4  1  0"
      ]
     },
     "execution_count": 357,
     "metadata": {},
     "output_type": "execute_result"
    }
   ],
   "source": [
    "safety=pd.get_dummies(route['safety(1,2,3)'],drop_first=True)\n",
    "safety.head()"
   ]
  },
  {
   "cell_type": "code",
   "execution_count": 358,
   "id": "074106b7",
   "metadata": {},
   "outputs": [
    {
     "data": {
      "text/html": [
       "<div>\n",
       "<style scoped>\n",
       "    .dataframe tbody tr th:only-of-type {\n",
       "        vertical-align: middle;\n",
       "    }\n",
       "\n",
       "    .dataframe tbody tr th {\n",
       "        vertical-align: top;\n",
       "    }\n",
       "\n",
       "    .dataframe thead th {\n",
       "        text-align: right;\n",
       "    }\n",
       "</style>\n",
       "<table border=\"1\" class=\"dataframe\">\n",
       "  <thead>\n",
       "    <tr style=\"text-align: right;\">\n",
       "      <th></th>\n",
       "      <th>1</th>\n",
       "      <th>2</th>\n",
       "    </tr>\n",
       "  </thead>\n",
       "  <tbody>\n",
       "    <tr>\n",
       "      <th>0</th>\n",
       "      <td>0</td>\n",
       "      <td>1</td>\n",
       "    </tr>\n",
       "    <tr>\n",
       "      <th>1</th>\n",
       "      <td>0</td>\n",
       "      <td>1</td>\n",
       "    </tr>\n",
       "    <tr>\n",
       "      <th>2</th>\n",
       "      <td>1</td>\n",
       "      <td>0</td>\n",
       "    </tr>\n",
       "    <tr>\n",
       "      <th>3</th>\n",
       "      <td>0</td>\n",
       "      <td>1</td>\n",
       "    </tr>\n",
       "    <tr>\n",
       "      <th>4</th>\n",
       "      <td>1</td>\n",
       "      <td>0</td>\n",
       "    </tr>\n",
       "  </tbody>\n",
       "</table>\n",
       "</div>"
      ],
      "text/plain": [
       "   1  2\n",
       "0  0  1\n",
       "1  0  1\n",
       "2  1  0\n",
       "3  0  1\n",
       "4  1  0"
      ]
     },
     "execution_count": 358,
     "metadata": {},
     "output_type": "execute_result"
    }
   ],
   "source": [
    "road=pd.get_dummies(route['road_available(pakka,kacha)'])\n",
    "road.head(5)"
   ]
  },
  {
   "cell_type": "code",
   "execution_count": 359,
   "id": "9a327fb0",
   "metadata": {},
   "outputs": [
    {
     "data": {
      "text/html": [
       "<div>\n",
       "<style scoped>\n",
       "    .dataframe tbody tr th:only-of-type {\n",
       "        vertical-align: middle;\n",
       "    }\n",
       "\n",
       "    .dataframe tbody tr th {\n",
       "        vertical-align: top;\n",
       "    }\n",
       "\n",
       "    .dataframe thead th {\n",
       "        text-align: right;\n",
       "    }\n",
       "</style>\n",
       "<table border=\"1\" class=\"dataframe\">\n",
       "  <thead>\n",
       "    <tr style=\"text-align: right;\">\n",
       "      <th></th>\n",
       "      <th>2</th>\n",
       "    </tr>\n",
       "  </thead>\n",
       "  <tbody>\n",
       "    <tr>\n",
       "      <th>0</th>\n",
       "      <td>1</td>\n",
       "    </tr>\n",
       "    <tr>\n",
       "      <th>1</th>\n",
       "      <td>1</td>\n",
       "    </tr>\n",
       "    <tr>\n",
       "      <th>2</th>\n",
       "      <td>0</td>\n",
       "    </tr>\n",
       "    <tr>\n",
       "      <th>3</th>\n",
       "      <td>1</td>\n",
       "    </tr>\n",
       "    <tr>\n",
       "      <th>4</th>\n",
       "      <td>0</td>\n",
       "    </tr>\n",
       "  </tbody>\n",
       "</table>\n",
       "</div>"
      ],
      "text/plain": [
       "   2\n",
       "0  1\n",
       "1  1\n",
       "2  0\n",
       "3  1\n",
       "4  0"
      ]
     },
     "execution_count": 359,
     "metadata": {},
     "output_type": "execute_result"
    }
   ],
   "source": [
    "road=pd.get_dummies(route['road_available(pakka,kacha)'],drop_first=True)\n",
    "road.head()"
   ]
  },
  {
   "cell_type": "code",
   "execution_count": 360,
   "id": "2e9283c5",
   "metadata": {},
   "outputs": [
    {
     "data": {
      "text/html": [
       "<div>\n",
       "<style scoped>\n",
       "    .dataframe tbody tr th:only-of-type {\n",
       "        vertical-align: middle;\n",
       "    }\n",
       "\n",
       "    .dataframe tbody tr th {\n",
       "        vertical-align: top;\n",
       "    }\n",
       "\n",
       "    .dataframe thead th {\n",
       "        text-align: right;\n",
       "    }\n",
       "</style>\n",
       "<table border=\"1\" class=\"dataframe\">\n",
       "  <thead>\n",
       "    <tr style=\"text-align: right;\">\n",
       "      <th></th>\n",
       "      <th>0</th>\n",
       "      <th>1</th>\n",
       "      <th>2</th>\n",
       "    </tr>\n",
       "  </thead>\n",
       "  <tbody>\n",
       "    <tr>\n",
       "      <th>0</th>\n",
       "      <td>1</td>\n",
       "      <td>0</td>\n",
       "      <td>0</td>\n",
       "    </tr>\n",
       "    <tr>\n",
       "      <th>1</th>\n",
       "      <td>0</td>\n",
       "      <td>1</td>\n",
       "      <td>0</td>\n",
       "    </tr>\n",
       "    <tr>\n",
       "      <th>2</th>\n",
       "      <td>0</td>\n",
       "      <td>1</td>\n",
       "      <td>0</td>\n",
       "    </tr>\n",
       "    <tr>\n",
       "      <th>3</th>\n",
       "      <td>1</td>\n",
       "      <td>0</td>\n",
       "      <td>0</td>\n",
       "    </tr>\n",
       "    <tr>\n",
       "      <th>4</th>\n",
       "      <td>1</td>\n",
       "      <td>0</td>\n",
       "      <td>0</td>\n",
       "    </tr>\n",
       "  </tbody>\n",
       "</table>\n",
       "</div>"
      ],
      "text/plain": [
       "   0  1  2\n",
       "0  1  0  0\n",
       "1  0  1  0\n",
       "2  0  1  0\n",
       "3  1  0  0\n",
       "4  1  0  0"
      ]
     },
     "execution_count": 360,
     "metadata": {},
     "output_type": "execute_result"
    }
   ],
   "source": [
    "traffic=pd.get_dummies(route['traffic(0,1,2)'])\n",
    "traffic.head(5)"
   ]
  },
  {
   "cell_type": "code",
   "execution_count": 361,
   "id": "0eef188e",
   "metadata": {},
   "outputs": [
    {
     "data": {
      "text/html": [
       "<div>\n",
       "<style scoped>\n",
       "    .dataframe tbody tr th:only-of-type {\n",
       "        vertical-align: middle;\n",
       "    }\n",
       "\n",
       "    .dataframe tbody tr th {\n",
       "        vertical-align: top;\n",
       "    }\n",
       "\n",
       "    .dataframe thead th {\n",
       "        text-align: right;\n",
       "    }\n",
       "</style>\n",
       "<table border=\"1\" class=\"dataframe\">\n",
       "  <thead>\n",
       "    <tr style=\"text-align: right;\">\n",
       "      <th></th>\n",
       "      <th>1</th>\n",
       "      <th>2</th>\n",
       "    </tr>\n",
       "  </thead>\n",
       "  <tbody>\n",
       "    <tr>\n",
       "      <th>0</th>\n",
       "      <td>0</td>\n",
       "      <td>0</td>\n",
       "    </tr>\n",
       "    <tr>\n",
       "      <th>1</th>\n",
       "      <td>1</td>\n",
       "      <td>0</td>\n",
       "    </tr>\n",
       "    <tr>\n",
       "      <th>2</th>\n",
       "      <td>1</td>\n",
       "      <td>0</td>\n",
       "    </tr>\n",
       "    <tr>\n",
       "      <th>3</th>\n",
       "      <td>0</td>\n",
       "      <td>0</td>\n",
       "    </tr>\n",
       "    <tr>\n",
       "      <th>4</th>\n",
       "      <td>0</td>\n",
       "      <td>0</td>\n",
       "    </tr>\n",
       "  </tbody>\n",
       "</table>\n",
       "</div>"
      ],
      "text/plain": [
       "   1  2\n",
       "0  0  0\n",
       "1  1  0\n",
       "2  1  0\n",
       "3  0  0\n",
       "4  0  0"
      ]
     },
     "execution_count": 361,
     "metadata": {},
     "output_type": "execute_result"
    }
   ],
   "source": [
    "traffic=pd.get_dummies(route['traffic(0,1,2)'],drop_first=True)\n",
    "traffic.head(5)"
   ]
  },
  {
   "cell_type": "code",
   "execution_count": 362,
   "id": "3939cdbd",
   "metadata": {},
   "outputs": [],
   "source": [
    "# route=pd.concat([route,road,traffic,safety],axis=1)"
   ]
  },
  {
   "cell_type": "code",
   "execution_count": 363,
   "id": "808f720d",
   "metadata": {},
   "outputs": [
    {
     "data": {
      "text/html": [
       "<div>\n",
       "<style scoped>\n",
       "    .dataframe tbody tr th:only-of-type {\n",
       "        vertical-align: middle;\n",
       "    }\n",
       "\n",
       "    .dataframe tbody tr th {\n",
       "        vertical-align: top;\n",
       "    }\n",
       "\n",
       "    .dataframe thead th {\n",
       "        text-align: right;\n",
       "    }\n",
       "</style>\n",
       "<table border=\"1\" class=\"dataframe\">\n",
       "  <thead>\n",
       "    <tr style=\"text-align: right;\">\n",
       "      <th></th>\n",
       "      <th>pickup</th>\n",
       "      <th>drop</th>\n",
       "      <th>via</th>\n",
       "      <th>transport(1,2)</th>\n",
       "      <th>total_distance</th>\n",
       "      <th>safety(1,2,3)</th>\n",
       "      <th>road_available(pakka,kacha)</th>\n",
       "      <th>traffic(0,1,2)</th>\n",
       "      <th>accident</th>\n",
       "      <th>people_travelled</th>\n",
       "      <th>taken</th>\n",
       "    </tr>\n",
       "  </thead>\n",
       "  <tbody>\n",
       "    <tr>\n",
       "      <th>0</th>\n",
       "      <td>1</td>\n",
       "      <td>1</td>\n",
       "      <td>41</td>\n",
       "      <td>2</td>\n",
       "      <td>108.0</td>\n",
       "      <td>3</td>\n",
       "      <td>2</td>\n",
       "      <td>0</td>\n",
       "      <td>3.099166</td>\n",
       "      <td>454</td>\n",
       "      <td>0</td>\n",
       "    </tr>\n",
       "    <tr>\n",
       "      <th>1</th>\n",
       "      <td>1</td>\n",
       "      <td>1</td>\n",
       "      <td>40</td>\n",
       "      <td>2</td>\n",
       "      <td>129.0</td>\n",
       "      <td>2</td>\n",
       "      <td>2</td>\n",
       "      <td>1</td>\n",
       "      <td>4.613683</td>\n",
       "      <td>1317</td>\n",
       "      <td>0</td>\n",
       "    </tr>\n",
       "    <tr>\n",
       "      <th>2</th>\n",
       "      <td>1</td>\n",
       "      <td>1</td>\n",
       "      <td>48</td>\n",
       "      <td>2</td>\n",
       "      <td>105.0</td>\n",
       "      <td>1</td>\n",
       "      <td>1</td>\n",
       "      <td>1</td>\n",
       "      <td>4.414495</td>\n",
       "      <td>1122</td>\n",
       "      <td>1</td>\n",
       "    </tr>\n",
       "    <tr>\n",
       "      <th>3</th>\n",
       "      <td>1</td>\n",
       "      <td>1</td>\n",
       "      <td>49</td>\n",
       "      <td>2</td>\n",
       "      <td>104.0</td>\n",
       "      <td>1</td>\n",
       "      <td>2</td>\n",
       "      <td>0</td>\n",
       "      <td>2.379357</td>\n",
       "      <td>718</td>\n",
       "      <td>0</td>\n",
       "    </tr>\n",
       "    <tr>\n",
       "      <th>4</th>\n",
       "      <td>1</td>\n",
       "      <td>2</td>\n",
       "      <td>29</td>\n",
       "      <td>2</td>\n",
       "      <td>80.0</td>\n",
       "      <td>2</td>\n",
       "      <td>1</td>\n",
       "      <td>0</td>\n",
       "      <td>3.795990</td>\n",
       "      <td>620</td>\n",
       "      <td>0</td>\n",
       "    </tr>\n",
       "  </tbody>\n",
       "</table>\n",
       "</div>"
      ],
      "text/plain": [
       "   pickup  drop  via  transport(1,2)  total_distance  safety(1,2,3)  \\\n",
       "0       1     1   41               2           108.0              3   \n",
       "1       1     1   40               2           129.0              2   \n",
       "2       1     1   48               2           105.0              1   \n",
       "3       1     1   49               2           104.0              1   \n",
       "4       1     2   29               2            80.0              2   \n",
       "\n",
       "   road_available(pakka,kacha)  traffic(0,1,2)  accident  people_travelled  \\\n",
       "0                            2               0  3.099166               454   \n",
       "1                            2               1  4.613683              1317   \n",
       "2                            1               1  4.414495              1122   \n",
       "3                            2               0  2.379357               718   \n",
       "4                            1               0  3.795990               620   \n",
       "\n",
       "   taken  \n",
       "0      0  \n",
       "1      0  \n",
       "2      1  \n",
       "3      0  \n",
       "4      0  "
      ]
     },
     "execution_count": 363,
     "metadata": {},
     "output_type": "execute_result"
    }
   ],
   "source": [
    "route.head(5)"
   ]
  },
  {
   "cell_type": "code",
   "execution_count": 364,
   "id": "12227e7a",
   "metadata": {},
   "outputs": [],
   "source": [
    "x=route.drop(\"taken\",axis=1)\n",
    "y=route[\"taken\"]"
   ]
  },
  {
   "cell_type": "code",
   "execution_count": 365,
   "id": "398f4e7c",
   "metadata": {},
   "outputs": [],
   "source": [
    "from sklearn.model_selection import train_test_split"
   ]
  },
  {
   "cell_type": "code",
   "execution_count": 366,
   "id": "3d217216",
   "metadata": {},
   "outputs": [],
   "source": [
    "x_train,x_test,y_train,y_test=train_test_split(x,y,test_size=0.3,random_state=1)"
   ]
  },
  {
   "cell_type": "code",
   "execution_count": 367,
   "id": "cf8e321b",
   "metadata": {},
   "outputs": [],
   "source": [
    "from sklearn.linear_model import LogisticRegression"
   ]
  },
  {
   "cell_type": "code",
   "execution_count": 368,
   "id": "f1fbf637",
   "metadata": {},
   "outputs": [],
   "source": [
    "logmodel=LogisticRegression(max_iter=1000)"
   ]
  },
  {
   "cell_type": "code",
   "execution_count": 369,
   "id": "f5fda5bc",
   "metadata": {},
   "outputs": [
    {
     "data": {
      "text/html": [
       "<div>\n",
       "<style scoped>\n",
       "    .dataframe tbody tr th:only-of-type {\n",
       "        vertical-align: middle;\n",
       "    }\n",
       "\n",
       "    .dataframe tbody tr th {\n",
       "        vertical-align: top;\n",
       "    }\n",
       "\n",
       "    .dataframe thead th {\n",
       "        text-align: right;\n",
       "    }\n",
       "</style>\n",
       "<table border=\"1\" class=\"dataframe\">\n",
       "  <thead>\n",
       "    <tr style=\"text-align: right;\">\n",
       "      <th></th>\n",
       "      <th>pickup</th>\n",
       "      <th>drop</th>\n",
       "      <th>via</th>\n",
       "      <th>transport(1,2)</th>\n",
       "      <th>total_distance</th>\n",
       "      <th>safety(1,2,3)</th>\n",
       "      <th>road_available(pakka,kacha)</th>\n",
       "      <th>traffic(0,1,2)</th>\n",
       "      <th>accident</th>\n",
       "      <th>people_travelled</th>\n",
       "      <th>taken</th>\n",
       "    </tr>\n",
       "  </thead>\n",
       "  <tbody>\n",
       "    <tr>\n",
       "      <th>0</th>\n",
       "      <td>1</td>\n",
       "      <td>1</td>\n",
       "      <td>41</td>\n",
       "      <td>2</td>\n",
       "      <td>108.0</td>\n",
       "      <td>3</td>\n",
       "      <td>2</td>\n",
       "      <td>0</td>\n",
       "      <td>3.099166</td>\n",
       "      <td>454</td>\n",
       "      <td>0</td>\n",
       "    </tr>\n",
       "    <tr>\n",
       "      <th>1</th>\n",
       "      <td>1</td>\n",
       "      <td>1</td>\n",
       "      <td>40</td>\n",
       "      <td>2</td>\n",
       "      <td>129.0</td>\n",
       "      <td>2</td>\n",
       "      <td>2</td>\n",
       "      <td>1</td>\n",
       "      <td>4.613683</td>\n",
       "      <td>1317</td>\n",
       "      <td>0</td>\n",
       "    </tr>\n",
       "    <tr>\n",
       "      <th>2</th>\n",
       "      <td>1</td>\n",
       "      <td>1</td>\n",
       "      <td>48</td>\n",
       "      <td>2</td>\n",
       "      <td>105.0</td>\n",
       "      <td>1</td>\n",
       "      <td>1</td>\n",
       "      <td>1</td>\n",
       "      <td>4.414495</td>\n",
       "      <td>1122</td>\n",
       "      <td>1</td>\n",
       "    </tr>\n",
       "    <tr>\n",
       "      <th>3</th>\n",
       "      <td>1</td>\n",
       "      <td>1</td>\n",
       "      <td>49</td>\n",
       "      <td>2</td>\n",
       "      <td>104.0</td>\n",
       "      <td>1</td>\n",
       "      <td>2</td>\n",
       "      <td>0</td>\n",
       "      <td>2.379357</td>\n",
       "      <td>718</td>\n",
       "      <td>0</td>\n",
       "    </tr>\n",
       "    <tr>\n",
       "      <th>4</th>\n",
       "      <td>1</td>\n",
       "      <td>2</td>\n",
       "      <td>29</td>\n",
       "      <td>2</td>\n",
       "      <td>80.0</td>\n",
       "      <td>2</td>\n",
       "      <td>1</td>\n",
       "      <td>0</td>\n",
       "      <td>3.795990</td>\n",
       "      <td>620</td>\n",
       "      <td>0</td>\n",
       "    </tr>\n",
       "  </tbody>\n",
       "</table>\n",
       "</div>"
      ],
      "text/plain": [
       "   pickup  drop  via  transport(1,2)  total_distance  safety(1,2,3)  \\\n",
       "0       1     1   41               2           108.0              3   \n",
       "1       1     1   40               2           129.0              2   \n",
       "2       1     1   48               2           105.0              1   \n",
       "3       1     1   49               2           104.0              1   \n",
       "4       1     2   29               2            80.0              2   \n",
       "\n",
       "   road_available(pakka,kacha)  traffic(0,1,2)  accident  people_travelled  \\\n",
       "0                            2               0  3.099166               454   \n",
       "1                            2               1  4.613683              1317   \n",
       "2                            1               1  4.414495              1122   \n",
       "3                            2               0  2.379357               718   \n",
       "4                            1               0  3.795990               620   \n",
       "\n",
       "   taken  \n",
       "0      0  \n",
       "1      0  \n",
       "2      1  \n",
       "3      0  \n",
       "4      0  "
      ]
     },
     "execution_count": 369,
     "metadata": {},
     "output_type": "execute_result"
    }
   ],
   "source": [
    "route.head(5)"
   ]
  },
  {
   "cell_type": "code",
   "execution_count": 370,
   "id": "bd4db881",
   "metadata": {},
   "outputs": [
    {
     "data": {
      "text/plain": [
       "LogisticRegression(max_iter=1000)"
      ]
     },
     "execution_count": 370,
     "metadata": {},
     "output_type": "execute_result"
    }
   ],
   "source": [
    "logmodel.fit(x_train,y_train)"
   ]
  },
  {
   "cell_type": "code",
   "execution_count": 371,
   "id": "8c504fd3",
   "metadata": {},
   "outputs": [],
   "source": [
    "y_pred=logmodel.predict(x_test)"
   ]
  },
  {
   "cell_type": "code",
   "execution_count": 372,
   "id": "8a3331bb",
   "metadata": {},
   "outputs": [
    {
     "data": {
      "text/plain": [
       "'              precision    recall  f1-score   support\\n\\n           0       0.57      0.36      0.44        11\\n           1       0.50      0.70      0.58        10\\n\\n    accuracy                           0.52        21\\n   macro avg       0.54      0.53      0.51        21\\nweighted avg       0.54      0.52      0.51        21\\n'"
      ]
     },
     "execution_count": 372,
     "metadata": {},
     "output_type": "execute_result"
    }
   ],
   "source": [
    "from sklearn.metrics import classification_report\n",
    "classification_report(y_test,y_pred)"
   ]
  },
  {
   "cell_type": "code",
   "execution_count": 373,
   "id": "cc0f4b04",
   "metadata": {},
   "outputs": [
    {
     "data": {
      "text/plain": [
       "array([[4, 7],\n",
       "       [3, 7]], dtype=int64)"
      ]
     },
     "execution_count": 373,
     "metadata": {},
     "output_type": "execute_result"
    }
   ],
   "source": [
    "from sklearn.metrics import confusion_matrix\n",
    "confusion_matrix(y_test,y_pred)"
   ]
  },
  {
   "cell_type": "code",
   "execution_count": 374,
   "id": "3f2f8fe7",
   "metadata": {},
   "outputs": [
    {
     "data": {
      "text/plain": [
       "0.5238095238095238"
      ]
     },
     "execution_count": 374,
     "metadata": {},
     "output_type": "execute_result"
    }
   ],
   "source": [
    "from sklearn.metrics import accuracy_score\n",
    "accuracy_score(y_test,y_pred)"
   ]
  },
  {
   "cell_type": "code",
   "execution_count": 375,
   "id": "62549b46",
   "metadata": {},
   "outputs": [
    {
     "data": {
      "text/plain": [
       "<AxesSubplot:xlabel='transport(1,2)'>"
      ]
     },
     "execution_count": 375,
     "metadata": {},
     "output_type": "execute_result"
    },
    {
     "data": {
      "image/png": "[encoded data removed]",
      "text/plain": [
       "<Figure size 640x480 with 1 Axes>"
      ]
     },
     "metadata": {},
     "output_type": "display_data"
    }
   ],
   "source": [
    "route.pivot_table('taken',index='transport(1,2)',columns='safety(1,2,3)').plot()"
   ]
  },
  {
   "cell_type": "code",
   "execution_count": 376,
   "id": "64ee9466",
   "metadata": {},
   "outputs": [
    {
     "data": {
      "text/plain": [
       "<AxesSubplot:xlabel='traffic(0,1,2)'>"
      ]
     },
     "execution_count": 376,
     "metadata": {},
     "output_type": "execute_result"
    },
    {
     "data": {
      "image/png": "[encoded data removed]",
      "text/plain": [
       "<Figure size 640x480 with 1 Axes>"
      ]
     },
     "metadata": {},
     "output_type": "display_data"
    }
   ],
   "source": [
    "route.pivot_table('taken',index='traffic(0,1,2)',columns='safety(1,2,3)').plot()"
   ]
  },
  {
   "cell_type": "code",
   "execution_count": null,
   "id": "e14f792a",
   "metadata": {},
   "outputs": [],
   "source": [
    "# def models(x_train,y_train):\n",
    "#     from sklearn.linear_model import LogisticRegression\n",
    "#     log=LogisticRegression(random_state=0)\n",
    "#     log.fit(x_train,y_train)\n",
    "    \n",
    "#     print('[0]logistic regression training accuracy:',log.score(x_train,y_train))\n",
    "    \n",
    "#     return log"
   ]
  },
  {
   "cell_type": "code",
   "execution_count": null,
   "id": "c61789d1",
   "metadata": {},
   "outputs": [],
   "source": [
    "# model=models(x_train,y_train)"
   ]
  },
  {
   "cell_type": "code",
   "execution_count": 393,
   "id": "49667b95",
   "metadata": {},
   "outputs": [
    {
     "name": "stdout",
     "output_type": "stream",
     "text": [
      "pickup location: Bimavaram\n",
      "drop location: Biccavolu\n",
      "via location: tanuku\n",
      "1 for 1 wheel ,2 for 4 wheel: 2\n",
      "distance in km: 104\n",
      "safety level in 1,2,3 : 3\n",
      "1 for pakka , 2 for kaccha : 1\n",
      "traffic measure level(0,1,2): 1\n",
      "no.of accidents: 3\n",
      "no.of people travelled : 1286\n"
     ]
    }
   ],
   "source": [
    "pickup=(input(\"pickup location: \"));\n",
    "drop=(input(\"drop location: \"));\n",
    "via=(input(\"via location: \"));\n",
    "transport=int(input(\"1 for 1 wheel ,2 for 4 wheel: \"));\n",
    "tot_dist=int(input(\"distance in km: \"));\n",
    "safety=int(input(\"safety level in 1,2,3 : \"));\n",
    "road_type=int(input(\"1 for pakka , 2 for kaccha : \"));\n",
    "traffic=int(input(\"traffic measure level(0,1,2): \"));\n",
    "accident=int(input(\"no.of accidents: \"));\n",
    "people_travelled=int(input(\"no.of people travelled : \"));"
   ]
  },
  {
   "cell_type": "code",
   "execution_count": 394,
   "id": "448e5ca8",
   "metadata": {},
   "outputs": [
    {
     "name": "stdout",
     "output_type": "stream",
     "text": [
      "the road is not taken\n"
     ]
    }
   ],
   "source": [
    "pickup=le_pickup.fit_transform([pickup])\n",
    "drop=le_drop.fit_transform([drop])\n",
    "via=le_via.fit_transform([via])\n",
    "road_taken=[[pickup,drop,via,transport,tot_dist,safety,road_type,traffic,accident,people_travelled]]\n",
    "\n",
    "pred=logmodel.predict(road_taken)\n",
    "# print(pred)\n",
    "\n",
    "if pred == 1:\n",
    "    print(\"the road is taken\")      \n",
    "else:\n",
    "    print(\"the road is not taken\")"
   ]
  },
  {
   "cell_type": "code",
   "execution_count": null,
   "id": "c710bb2b",
   "metadata": {},
   "outputs": [],
   "source": []
  }
 ],
 "metadata": {
  "kernelspec": {
   "display_name": "Python 3 (ipykernel)",
   "language": "python",
   "name": "python3"
  },
  "language_info": {
   "codemirror_mode": {
    "name": "ipython",
    "version": 3
   },
   "file_extension": ".py",
   "mimetype": "text/x-python",
   "name": "python",
   "nbconvert_exporter": "python",
   "pygments_lexer": "ipython3",
   "version": "3.9.13"
  }
 },
 "nbformat": 4,
 "nbformat_minor": 5
}
